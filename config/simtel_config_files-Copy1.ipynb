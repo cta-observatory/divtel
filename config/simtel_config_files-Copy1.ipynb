{
 "cells": [
  {
   "cell_type": "code",
   "execution_count": 1,
   "id": "e905be31",
   "metadata": {},
   "outputs": [],
   "source": [
    "%load_ext autoreload\n",
    "%autoreload 2\n",
    "%matplotlib notebook"
   ]
  },
  {
   "cell_type": "code",
   "execution_count": 2,
   "id": "c332973f",
   "metadata": {},
   "outputs": [],
   "source": [
    "from divtel import *\n",
    "#from divtel.ArrayConfig import *\n",
    "from pathlib import Path"
   ]
  },
  {
   "cell_type": "code",
   "execution_count": 3,
   "id": "5fede086",
   "metadata": {},
   "outputs": [],
   "source": [
    "prod='PROD5' \n",
    "outdir='./MAGIC'\n",
    "site='LaPalma'     #allowed values: LaPalma, Paranal"
   ]
  },
  {
   "cell_type": "code",
   "execution_count": 4,
   "id": "b84fc43b",
   "metadata": {},
   "outputs": [],
   "source": [
    "alt=70  #[30,50,70] you are setting ALTITUDE, zd = 90 - alt\n",
    "az=180    #[0,180] 0--> North pointing, 180 --> South pointing \n",
    "# Automatically set pointing to be used in output filename\n",
    "if az==0:\n",
    "    pointing='North'\n",
    "elif az==180:\n",
    "    pointing='South'"
   ]
  },
  {
   "cell_type": "code",
   "execution_count": 5,
   "id": "4b634adf",
   "metadata": {},
   "outputs": [],
   "source": [
    "#Setting MSTs camera according to the site Nectar --> LP, Flash --> Paranal\n",
    "if site == 'LaPalma':\n",
    "    camera = 'Nectar'\n",
    "elif site == 'Paranal':\n",
    "    camera = 'Flash'"
   ]
  },
  {
   "cell_type": "code",
   "execution_count": 6,
   "id": "ccee6281",
   "metadata": {},
   "outputs": [],
   "source": [
    "# Loading the geometrical configuration of our array \n",
    "#( telescope position on the ground - (x,y,z), camera radius, focal lenght )\n",
    "array = LoadConfig(f\"MAGIC/layout_4LSTs_MAGIC.txt\")"
   ]
  },
  {
   "cell_type": "code",
   "execution_count": 7,
   "id": "a5b09f7e",
   "metadata": {},
   "outputs": [],
   "source": [
    "# Setting div values\n",
    "divergence=[0.005,0.01]#[0.0022,0.0043,0.008,0.01135,0.01453]"
   ]
  },
  {
   "cell_type": "code",
   "execution_count": 8,
   "id": "50dd3954",
   "metadata": {},
   "outputs": [],
   "source": [
    "# Names of the files containing simulation details for each telescope\n",
    "# I did not made them up, you can find the correct names in the simtel config files for parallel pointing\n",
    "configs=['CTA-PROD4-LST',f'CTA-PROD6-MST-{camera}Cam','CTA-PROD6-SST']\n",
    "LST_config=configs[0]\n",
    "MST_config=configs[1]\n",
    "SST_config=configs[2]"
   ]
  },
  {
   "cell_type": "code",
   "execution_count": 9,
   "id": "9d9050fd",
   "metadata": {},
   "outputs": [],
   "source": [
    "#path = Path(f\"{outdir}\")\n",
    "#path.mkdir(exist_ok=True)\n",
    "#path = Path(f\"{outdir}/{site}\")\n",
    "#path.mkdir(exist_ok=True)\n",
    "#path = Path(f\"{outdir}/{site}/{pointing}_pointing\")\n",
    "#path.mkdir(exist_ok=True)"
   ]
  },
  {
   "cell_type": "code",
   "execution_count": 10,
   "id": "0e15e6c6",
   "metadata": {},
   "outputs": [],
   "source": [
    "# 'EXTRA' settings that will be used inside config file to make it look like parallel pointing files\n",
    "if site=='LaPalma':\n",
    "    geosite='La_Palma'\n",
    "    atm='NORTH'\n",
    "    hemisphere='North'\n",
    "    array_config_variant=f\"LST/{camera}Cam at CTA {hemisphere} with Alpha+ layout\"\n",
    "elif site =='Paranal':\n",
    "    geosite=site\n",
    "    atm='SOUTH'\n",
    "    hemisphere='South'\n",
    "    array_config_variant=f\"LST/{camera}Cam/SST at CTA {hemisphere} with Alpha+ layout\""
   ]
  },
  {
   "cell_type": "code",
   "execution_count": 11,
   "id": "fbc07c1d",
   "metadata": {},
   "outputs": [],
   "source": [
    "# Generating sim_telarray config file for the chosen pointing dir and for all div values \n",
    "for div in divergence: \n",
    "    #print(div)\n",
    "    array.divergent_pointing(div = div, az = az, alt = alt)\n",
    "    array.table.units = \"deg\"\n",
    "    table = array.table\n",
    "    filename = f\"CTA-{prod}-{site}-MAGIC_4LSTs_div{div}_Zd{90 - alt}_{pointing}Pointing.cfg\"\n",
    "    with open(filename, 'w') as f:\n",
    "        f.write(\"% What transmission option to use (see CTA-PROD4-site.cfg):\\n\")\n",
    "        f.write(f\"#define CTA_{geosite.upper()} 1\\n\")\n",
    "        f.write(f\"#define ATMOSPHERE_{atm} 1\\n\")\n",
    "        f.write(\"#define NAVY_MARITIME 1\\n\")\n",
    "        f.write(\"#define LOW_EXTINCTION 1\\n\")\n",
    "        f.write(\"\\n\")\n",
    "        f.write(\"#ifndef TELESCOPE\\n\")\n",
    "        f.write(\"#   define TELESCOPE 0\\n\")\n",
    "        f.write(\"#endif\\n\")\n",
    "        f.write(\"\\n\")\n",
    "        f.write('#if TELESCOPE == 0\\n')\n",
    "        f.write('   TELESCOPE_THETA={:.2f}\\n'.format(90 - array.pointing[\"alt\"].value))\n",
    "        f.write('   TELESCOPE_PHI={:.2f}\\n'.format(array.pointing[\"az\"].value))\n",
    "        f.write('\\n% Global and default configuration for things missing in telescope-specific config.\\n')\n",
    "        f.write(f'#  include <{LST_config}.cfg>\\n')\n",
    "        for n, tel in enumerate(table, 1):\n",
    "            #zd = 90 - tel[\"alt\"]\n",
    "            f.write('\\n#elif TELESCOPE == {:d}\\n'.format(n))\n",
    "            if tel[\"focal\"]==16.97:\n",
    "                if tel['id'] ==1:\n",
    "                    f.write(f\"#  include <CTA-PROD4-MAGIC1_test.cfg>\\n\")\n",
    "                elif tel['id'] ==2:\n",
    "                    f.write(f'#  include <CTA-PROD4-MAGIC2_test.cfg>\\n')\n",
    "            \n",
    "            elif tel[\"focal\"]==28:\n",
    "                if tel['id'] ==3 and 'LaPalma' in filename:\n",
    "                    f.write(f\"#  include <CTA-PROD4-LST-prototype.cfg>\\n\")\n",
    "                else:\n",
    "                    f.write(f\"#  include <{LST_config}.cfg>\\n\")\n",
    "                \n",
    "            f.write(\"   TELESCOPE_THETA={:.2f}\\n\".format(90 - tel[\"alt\"]))\n",
    "            f.write(\"   TELESCOPE_PHI={:.2f}\\n\".format(360 - tel[\"az\"]))\n",
    "            f.write(\"\\n\")\n",
    "        f.write(\"#else\\n\")\n",
    "        f.write(\"   Error Invalid telescope for CTA-PROD5 Paranal baseline/extended configuration.\\n\")\n",
    "        f.write(\"#endif\\n\")\n",
    "        # Trigger conditions\n",
    "        f.write(\"trigger_telescopes = 2 % We apply loose stereo trigger immediately\\n\")\n",
    "        f.write(\"% To be more strict we need a matching array trigger definition.\\n\")\n",
    "        f.close()"
   ]
  },
  {
   "cell_type": "code",
   "execution_count": null,
   "id": "9720fe73",
   "metadata": {},
   "outputs": [],
   "source": []
  }
 ],
 "metadata": {
  "kernelspec": {
   "display_name": "Python 3 (ipykernel)",
   "language": "python",
   "name": "python3"
  },
  "language_info": {
   "codemirror_mode": {
    "name": "ipython",
    "version": 3
   },
   "file_extension": ".py",
   "mimetype": "text/x-python",
   "name": "python",
   "nbconvert_exporter": "python",
   "pygments_lexer": "ipython3",
   "version": "3.10.6"
  }
 },
 "nbformat": 4,
 "nbformat_minor": 5
}
