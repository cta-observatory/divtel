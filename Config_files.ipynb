{
 "cells": [
  {
   "cell_type": "code",
   "execution_count": 1,
   "id": "e905be31",
   "metadata": {},
   "outputs": [],
   "source": [
    "%load_ext autoreload\n",
    "%autoreload 2\n",
    "%matplotlib notebook"
   ]
  },
  {
   "cell_type": "code",
   "execution_count": 2,
   "id": "c332973f",
   "metadata": {},
   "outputs": [],
   "source": [
    "from ctadiv import *\n",
    "from ctadiv.ArrayConfig import *\n",
    "from pathlib import Path"
   ]
  },
  {
   "cell_type": "code",
   "execution_count": 3,
   "id": "5fede086",
   "metadata": {},
   "outputs": [],
   "source": [
    "prod='PROD5'\n",
    "outdir='simtel_Prod6_AlphaPlus_div'\n",
    "site='LaPalma'     #allowed values: LaPalma, Paranal"
   ]
  },
  {
   "cell_type": "code",
   "execution_count": 4,
   "id": "b84fc43b",
   "metadata": {},
   "outputs": [],
   "source": [
    "alt=70  #[30,50,70]\n",
    "az=180    #[0,180]\n",
    "if az==0:\n",
    "    pointing='North'\n",
    "elif az==180:\n",
    "    pointing='South'"
   ]
  },
  {
   "cell_type": "code",
   "execution_count": 5,
   "id": "4b634adf",
   "metadata": {},
   "outputs": [],
   "source": [
    "if site == 'LaPalma':\n",
    "    camera = 'Nectar'\n",
    "elif site == 'Paranal':\n",
    "    camera = 'Flash'"
   ]
  },
  {
   "cell_type": "code",
   "execution_count": 6,
   "id": "ccee6281",
   "metadata": {},
   "outputs": [],
   "source": [
    "array = LoadConfig(f\"./config/prod5/{site}ArrayPositions_divProd6_Beta.txt\")"
   ]
  },
  {
   "cell_type": "code",
   "execution_count": 7,
   "id": "a5b09f7e",
   "metadata": {},
   "outputs": [],
   "source": [
    "divergence=[0.0022,0.0043,0.008,0.01135,0.01453]"
   ]
  },
  {
   "cell_type": "code",
   "execution_count": 8,
   "id": "50dd3954",
   "metadata": {},
   "outputs": [],
   "source": [
    "configs=['CTA-PROD4-LST',f'CTA-PROD4-MST-{camera}Cam','CTA-PROD5-SST']\n",
    "LST_config=configs[0]\n",
    "MST_config=configs[1]\n",
    "SST_config=configs[2]"
   ]
  },
  {
   "cell_type": "code",
   "execution_count": 9,
   "id": "9d9050fd",
   "metadata": {},
   "outputs": [],
   "source": [
    "path = Path(f\"{outdir}\")\n",
    "path.mkdir(exist_ok=True)\n",
    "path = Path(f\"{outdir}/{site}\")\n",
    "path.mkdir(exist_ok=True)\n",
    "path = Path(f\"{outdir}/{site}/{pointing}_pointing\")\n",
    "path.mkdir(exist_ok=True)"
   ]
  },
  {
   "cell_type": "code",
   "execution_count": 10,
   "id": "0e15e6c6",
   "metadata": {},
   "outputs": [],
   "source": [
    "if site=='LaPalma':\n",
    "    geosite='La_Palma'\n",
    "    atm='NORTH'\n",
    "elif site =='Paranal':\n",
    "    geosite=site\n",
    "    atm='SOUTH'"
   ]
  },
  {
   "cell_type": "code",
   "execution_count": 11,
   "id": "fbc07c1d",
   "metadata": {},
   "outputs": [],
   "source": [
    "for div in divergence: \n",
    "    #print(div)\n",
    "    array.divergent_pointing(div = div, az = az, alt = alt)\n",
    "    array.table.units = \"deg\"\n",
    "    table = array.table\n",
    "    filename = f\"{outdir}/{site}/{pointing}_pointing/CTA-{prod}-{site}-div{div}_{90 - alt}_{pointing}pointing-alpha.cfg\"\n",
    "    with open(filename, 'w') as f:\n",
    "        f.write(\"% What transmission option to use (see CTA-PROD4-site.cfg):\\n\")\n",
    "        f.write(f\"#define CTA_{geosite.upper()} 1\\n\")\n",
    "        f.write(f\"#define ATMOSPHERE_{atm} 1\\n\")\n",
    "        f.write(\" #define NAVY_MARITIME 1\\n\")\n",
    "        f.write(\"#define LOW_EXTINCTION 1\\n\")\n",
    "        f.write(\"\\n\")\n",
    "        f.write(\"#ifndef TELESCOPE\\n\")\n",
    "        f.write(\"#   define TELESCOPE 0\\n\")\n",
    "        f.write(\"#endif\\n\")\n",
    "        f.write(\"\\n\")\n",
    "        f.write('#if TELESCOPE == 0\\n')\n",
    "        f.write('   TELESCOPE_THETA={:.2f}\\n'.format(90 - array.pointing[\"alt\"].value))\n",
    "        f.write('   TELESCOPE_PHI={:.2f}\\n'.format(array.pointing[\"az\"].value))\n",
    "        f.write('\\n% Global and default configuration for things missing in telescope-specific config.\\n')\n",
    "        f.write(f'#  include <{LST_config}.cfg>\\n')\n",
    "        for n, tel in enumerate(table, 1):\n",
    "            #zd = 90 - tel[\"alt\"]\n",
    "            f.write('\\n#elif TELESCOPE == {:d}\\n'.format(n))\n",
    "            if tel[\"focal\"]==28:\n",
    "                if tel['id'] ==1 and 'LaPalma' in filename:\n",
    "                    f.write(f\"#  include <CTA-PROD4-LST-prototype.cfg>\\n\")\n",
    "                else:\n",
    "                    f.write(f\"#  include <{LST_config}.cfg>\\n\")\n",
    "            elif tel[\"focal\"]==16:\n",
    "                f.write(f\"#  include <{MST_config}.cfg>\\n\")\n",
    "            elif tel[\"focal\"]==5.6:\n",
    "                f.write(f'#  include <{SST_config}.cfg>\\n')\n",
    "            f.write(\"   TELESCOPE_THETA={:.2f}\\n\".format(90 - tel[\"alt\"]))\n",
    "            f.write(\"   TELESCOPE_PHI={:.2f}\\n\".format(360 - tel[\"az\"]))\n",
    "            f.write(\"\\n\")\n",
    "        f.write(\"#else\\n\")\n",
    "        f.write(\"   Error Invalid telescope for CTA-PROD5 Paranal baseline/extended configuration.\\n\")\n",
    "        f.write(\"#endif\\n\")\n",
    "        f.write(\"trigger_telescopes = 2 % We apply loose stereo trigger immediately\\n\")\n",
    "        f.write(\"% To be more strict we need a matching array trigger definition.\\n\")\n",
    "        f.close()"
   ]
  },
  {
   "cell_type": "code",
   "execution_count": null,
   "id": "90e70a6b",
   "metadata": {},
   "outputs": [],
   "source": []
  }
 ],
 "metadata": {
  "kernelspec": {
   "display_name": "Python 3 (ipykernel)",
   "language": "python",
   "name": "python3"
  },
  "language_info": {
   "codemirror_mode": {
    "name": "ipython",
    "version": 3
   },
   "file_extension": ".py",
   "mimetype": "text/x-python",
   "name": "python",
   "nbconvert_exporter": "python",
   "pygments_lexer": "ipython3",
   "version": "3.9.7"
  }
 },
 "nbformat": 4,
 "nbformat_minor": 5
}
