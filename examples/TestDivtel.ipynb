{
 "cells": [
  {
   "cell_type": "code",
   "execution_count": 1,
   "id": "209254a7-e855-4d20-858f-48f554d935fa",
   "metadata": {},
   "outputs": [],
   "source": [
    "import astropy.units as u\n",
    "import numpy as np\n",
    "import matplotlib.pyplot as plt\n",
    "import sys\n",
    "from divtel.telescope import Telescope, Array\n",
    "#from divtel. import *\n",
    "from astropy.coordinates import SkyCoord\n",
    "from divtel import pointing\n",
    "import healpy as hp\n",
    "import tqdm"
   ]
  },
  {
   "cell_type": "code",
   "execution_count": 7,
   "id": "ebb34d15-38a2-4562-a5bc-9fa0db77edf6",
   "metadata": {},
   "outputs": [],
   "source": [
    "def hess_1():\n",
    "    tel1 = Telescope(100*u.m, 0*u.m, 0*u.m, 15*u.m, 0.65*u.m)\n",
    "    tel2 = Telescope(0 * u.m, 100 * u.m, 0 * u.m, 15 * u.m, 0.65 * u.m)\n",
    "    tel3 = Telescope(-100 * u.m, 0 * u.m, 0 * u.m, 15 * u.m, 0.65 * u.m)\n",
    "    tel4 = Telescope(0 * u.m, -100 * u.m, 0 * u.m, 15 * u.m, 0.65 * u.m)\n",
    "    return Array([tel1, tel2, tel3, tel4])\n",
    "\n",
    "def hess_2():\n",
    "    tel1 = Telescope(100*u.m, 0*u.m, 0*u.m, 15*u.m, 0.65 * u.m)\n",
    "    tel2 = Telescope(0 * u.m, 100 * u.m, 0 * u.m, 15 * u.m, 0.65 * u.m)\n",
    "    tel3 = Telescope(-100 * u.m, 0 * u.m, 0 * u.m, 15 * u.m, 0.65 * u.m)\n",
    "    tel4 = Telescope(0 * u.m, -100 * u.m, 0 * u.m, 15 * u.m, 0.65 * u.m)\n",
    "    tel5 = Telescope(0 * u.m, 0. * u.m, 0 * u.m, 36 * u.m, 1. * u.m)\n",
    "    return Array([tel1, tel2, tel3, tel4, tel5])\n",
    "\n",
    "def hess_16():\n",
    "    list_tel = []\n",
    "    for x in np.linspace(-187.5, 187.5, 4):\n",
    "        for y in np.linspace(-187.5, 187.5, 4):\n",
    "            list_tel.append(Telescope(x*u.m, y*u.m, 0*u.m, 15*u.m, 0.65 * u.m))\n",
    "    return Array([list_tel])\n",
    "\n",
    "def hess_64():\n",
    "    list_tel = []\n",
    "    for x in np.linspace(-1000, 1000, 8):\n",
    "        for y in np.linspace(-1000, 1000, 8):\n",
    "            \n",
    "            list_tel.append(Telescope(x*u.m, y*u.m, 0*u.m, 15*u.m, 0.65 * u.m))\n",
    "    return Array(list_tel)\n",
    "\n",
    "\n",
    "\n",
    "def random_array(n=10):\n",
    "    tels = [Telescope(1000*np.random.rand()*u.m,\n",
    "                      1000*np.random.rand() * u.m,\n",
    "                      0 * u.m,\n",
    "                      np.random.rand() * u.m,\n",
    "                      np.random.rand() * u.m,\n",
    "                      )\n",
    "            for i in range(n)\n",
    "            ]\n",
    "    array = Array(tels)\n",
    "    for tel in array.telescopes:\n",
    "        tel.x -= array.barycenter[0]*u.m\n",
    "        tel.y -= array.barycenter[0]*u.m\n",
    "        tel.z -= array.barycenter[0]*u.m\n",
    "    return Array(tels)"
   ]
  },
  {
   "cell_type": "code",
   "execution_count": 13,
   "id": "1ef9f831-a86f-49a9-a564-2f02f0a5b998",
   "metadata": {},
   "outputs": [],
   "source": [
    "def sst_64():\n",
    "    list_tel = []\n",
    "    for x in np.linspace(-1000, 1000, 8):\n",
    "        for y in np.linspace(-1000, 1000, 8):\n",
    "            list_tel.append(Telescope(x*u.m, y*u.m, 0*u.m, 2.15*u.m, 0.2 * u.m))\n",
    "    return Array(list_tel)"
   ]
  },
  {
   "cell_type": "code",
   "execution_count": 14,
   "id": "9c8f05b4-a484-4245-bed4-51c362930e56",
   "metadata": {},
   "outputs": [],
   "source": [
    "array = sst_64()\n",
    "\n",
    "for tel in array.telescopes:\n",
    "    tel.point_to_altaz(90*u.deg, 0*u.deg)"
   ]
  },
  {
   "cell_type": "code",
   "execution_count": 15,
   "id": "26893402-219c-42bb-9268-89194ce2d360",
   "metadata": {},
   "outputs": [],
   "source": [
    "#array = LoadConfig(\"../config/Paranal_prod6_alpha4LSTs_reduced_list.txt\")\n",
    "div=0.01\n",
    "alt=70*u.deg\n",
    "az=0*u.deg\n",
    "array.divergent_pointing(0.01, alt_mean=70*u.deg, az_mean=0*u.deg)"
   ]
  },
  {
   "cell_type": "code",
   "execution_count": 16,
   "id": "bd0e6393-f80a-456a-a158-cbcac4dec203",
   "metadata": {},
   "outputs": [
    {
     "name": "stderr",
     "output_type": "stream",
     "text": [
      "  0%|                                                    | 0/64 [00:00<?, ?it/s]\n"
     ]
    },
    {
     "ename": "NameError",
     "evalue": "name 'telescope' is not defined",
     "output_type": "error",
     "traceback": [
      "\u001b[0;31m---------------------------------------------------------------------------\u001b[0m",
      "\u001b[0;31mNameError\u001b[0m                                 Traceback (most recent call last)",
      "Cell \u001b[0;32mIn[16], line 7\u001b[0m\n\u001b[1;32m      5\u001b[0m coordinate \u001b[38;5;241m=\u001b[39m SkyCoord(ra\u001b[38;5;241m=\u001b[39mra\u001b[38;5;241m*\u001b[39mu\u001b[38;5;241m.\u001b[39mdeg, dec\u001b[38;5;241m=\u001b[39mdec\u001b[38;5;241m*\u001b[39mu\u001b[38;5;241m.\u001b[39mdeg)\n\u001b[1;32m      6\u001b[0m \u001b[38;5;28;01mfor\u001b[39;00m i \u001b[38;5;129;01min\u001b[39;00m tqdm\u001b[38;5;241m.\u001b[39mtqdm(\u001b[38;5;28mrange\u001b[39m(\u001b[38;5;28mlen\u001b[39m(array\u001b[38;5;241m.\u001b[39mtelescopes))):\n\u001b[0;32m----> 7\u001b[0m     pointing \u001b[38;5;241m=\u001b[39m SkyCoord(ra\u001b[38;5;241m=\u001b[39mtelescope\u001b[38;5;241m.\u001b[39mpoint_to_altaz[i,\u001b[38;5;241m1\u001b[39m], dec\u001b[38;5;241m=\u001b[39marray\u001b[38;5;241m.\u001b[39mpoint_to_altaz[i,\u001b[38;5;241m0\u001b[39m])\n\u001b[1;32m      8\u001b[0m     r_fov \u001b[38;5;241m=\u001b[39m np\u001b[38;5;241m.\u001b[39marctan((array\u001b[38;5;241m.\u001b[39mtelescopes[i]\u001b[38;5;241m.\u001b[39mcamera_radius\u001b[38;5;241m/\u001b[39marray\u001b[38;5;241m.\u001b[39mtelescopes[i]\u001b[38;5;241m.\u001b[39mfocal)\u001b[38;5;241m.\u001b[39mto(u\u001b[38;5;241m.\u001b[39mdimensionless_unscaled))\u001b[38;5;241m.\u001b[39mto(u\u001b[38;5;241m.\u001b[39mdeg)\n\u001b[1;32m      9\u001b[0m     mask \u001b[38;5;241m=\u001b[39m coordinate\u001b[38;5;241m.\u001b[39mseparation(pointing) \u001b[38;5;241m<\u001b[39m r_fov\n",
      "\u001b[0;31mNameError\u001b[0m: name 'telescope' is not defined"
     ]
    }
   ],
   "source": [
    "nside = 512\n",
    "map_multiplicity = np.zeros(hp.nside2npix(nside), dtype=np.int8)\n",
    "counter = np.arange(0, hp.nside2npix(nside))\n",
    "ra, dec = hp.pix2ang(nside, counter, True, lonlat=True)\n",
    "coordinate = SkyCoord(ra=ra*u.deg, dec=dec*u.deg)\n",
    "for i in tqdm.tqdm(range(len(array.telescopes))):\n",
    "    pointing = SkyCoord(ra=telescope.point_to_altaz[i,1], dec=array.point_to_altaz[i,0])\n",
    "    r_fov = np.arctan((array.telescopes[i].camera_radius/array.telescopes[i].focal).to(u.dimensionless_unscaled)).to(u.deg)\n",
    "    mask = coordinate.separation(pointing) < r_fov\n",
    "    map_multiplicity[mask] += 1\n",
    "print(hp.nside2npix(nside), hp.nside2pixarea(nside, True), hp.nside2resol(nside, True))\n",
    "mask_fov = map_multiplicity>0\n",
    "mask_fov_eff = map_multiplicity>2\n",
    "print(hp.nside2pixarea(nside, True)*np.sum(mask_fov),\n",
    "      hp.nside2pixarea(nside, True)*np.sum(mask_fov_eff),\n",
    "      np.sum(mask_fov_eff)/np.sum(mask_fov))\n",
    "print(np.mean(map_multiplicity[mask_fov]),\n",
    "      np.mean(map_multiplicity[mask_fov_eff]))"
   ]
  },
  {
   "cell_type": "code",
   "execution_count": null,
   "id": "a4c7dbbf-256f-49eb-b24f-f7e71c9da328",
   "metadata": {},
   "outputs": [],
   "source": [
    "hp.cartview(map_multiplicity, rot=[az, alt], lonra=[-25,25], latra=[-25,25], nest=True)\n",
    "hp.graticule()"
   ]
  },
  {
   "cell_type": "code",
   "execution_count": null,
   "id": "8c4454ca-06aa-4c8a-81f9-9337692eeb08",
   "metadata": {},
   "outputs": [],
   "source": [
    "hp.cartview(map_multiplicity>3, rot=[az, alt], lonra=[-25,25], latra=[-25,25], nest=True)\n",
    "hp.graticule()"
   ]
  },
  {
   "cell_type": "code",
   "execution_count": null,
   "id": "59be3cad-225a-4549-aee8-f84343c330f0",
   "metadata": {},
   "outputs": [],
   "source": [
    "fig, axes = plt.subplots(1, 3, figsize=(15,4))\n",
    "ax = array.display_2d(projection='xz', ax=axes[0])\n",
    "array.display_2d(projection='xy', ax=axes[1])\n",
    "array.display_2d(projection='yz', ax=axes[2])"
   ]
  },
  {
   "cell_type": "code",
   "execution_count": null,
   "id": "b2da7a8a-2c9e-4888-be5d-d90b56ccb095",
   "metadata": {},
   "outputs": [],
   "source": [
    "array.divergent_pointing(div, alt*u.deg, az*u.deg)\n",
    "ax = array.display_3d()\n",
    "ax.scatter(array.barycenter[0], array.barycenter[1], array.barycenter[2])"
   ]
  },
  {
   "cell_type": "code",
   "execution_count": null,
   "id": "e305a878-8fe2-49ce-963f-8b5be1945a4e",
   "metadata": {},
   "outputs": [],
   "source": [
    "array.pointing_altaz.shape"
   ]
  },
  {
   "cell_type": "code",
   "execution_count": null,
   "id": "05dd8811-7fa2-4915-8b88-4d0aa0b0cbd0",
   "metadata": {},
   "outputs": [],
   "source": [
    "fig, ax = plt.subplots(subplot_kw={'projection': 'polar'})\n",
    "ax.scatter(array.pointing_altaz[:,1].to_value(u.rad), 90.*u.deg-array.pointing_altaz[:,0].to(u.deg))\n",
    "ax.set_rmax(90)\n",
    "ax.set_rmin(0)\n",
    "ax.grid(True)\n",
    "\n",
    "ax.set_title(\"A line plot on a polar axis\", va='bottom')\n",
    "plt.show()"
   ]
  },
  {
   "cell_type": "code",
   "execution_count": null,
   "id": "a115617d-9fdd-40e9-8ce0-4f2eada25ab5",
   "metadata": {},
   "outputs": [],
   "source": [
    "plt.scatter(array.pointing_altaz[:,1].to_value(u.deg)*np.sin(90.*u.deg-array.pointing_altaz[:,0].to(u.deg)),\n",
    "            90.*u.deg-array.pointing_altaz[:,0].to(u.deg))"
   ]
  },
  {
   "cell_type": "code",
   "execution_count": null,
   "id": "5ce0ca04-db9e-4202-b307-37ae4e9afd81",
   "metadata": {},
   "outputs": [],
   "source": []
  },
  {
   "cell_type": "code",
   "execution_count": null,
   "id": "0db05360-10c1-4bd5-a5a4-60a19cd077b6",
   "metadata": {},
   "outputs": [],
   "source": []
  }
 ],
 "metadata": {
  "kernelspec": {
   "display_name": "Python 3 (ipykernel)",
   "language": "python",
   "name": "python3"
  },
  "language_info": {
   "codemirror_mode": {
    "name": "ipython",
    "version": 3
   },
   "file_extension": ".py",
   "mimetype": "text/x-python",
   "name": "python",
   "nbconvert_exporter": "python",
   "pygments_lexer": "ipython3",
   "version": "3.11.5"
  }
 },
 "nbformat": 4,
 "nbformat_minor": 5
}
